{
  "cells": [
    {
      "metadata": {
        "_uuid": "8f2839f25d086af736a60e9eeb907d3b93b6e0e5",
        "_cell_guid": "b1076dfc-b9ad-4769-8c92-a6c4dae69d19",
        "trusted": true
      },
      "cell_type": "code",
      "source": "\nimport numpy as np \nimport pandas as pd \n\nimport os\nprint(os.listdir(\"../input\"))\n\n",
      "execution_count": 91,
      "outputs": [
        {
          "output_type": "stream",
          "text": "['GCP-Coupons-Instructions.rtf', 'train.csv', 'sample_submission.csv', 'test.csv']\n",
          "name": "stdout"
        }
      ]
    },
    {
      "metadata": {
        "_cell_guid": "79c7e3d0-c299-4dcb-8224-4455121ee9b0",
        "_uuid": "d629ff2d2480ee46fbb7e2d37f6b5fab8052498a",
        "trusted": true
      },
      "cell_type": "code",
      "source": "train = pd.read_csv(\"../input/train.csv\", nrows = 1000000)\ntest = pd.read_csv(\"../input/test.csv\")\ntrain.columns\n",
      "execution_count": 92,
      "outputs": [
        {
          "output_type": "execute_result",
          "execution_count": 92,
          "data": {
            "text/plain": "Index(['key', 'fare_amount', 'pickup_datetime', 'pickup_longitude',\n       'pickup_latitude', 'dropoff_longitude', 'dropoff_latitude',\n       'passenger_count'],\n      dtype='object')"
          },
          "metadata": {}
        }
      ]
    },
    {
      "metadata": {
        "trusted": true,
        "_uuid": "0642619673d002d3e908977b1a2d7fc07b6f724e"
      },
      "cell_type": "code",
      "source": "train=train[(train.pickup_longitude<=90)&(train.pickup_longitude>=-90)]",
      "execution_count": 93,
      "outputs": []
    },
    {
      "metadata": {
        "trusted": true,
        "_uuid": "a2ea7b670e13ca68b8e133c965b55768512667b2"
      },
      "cell_type": "code",
      "source": "train=train[(train.pickup_latitude<=90)&(train.pickup_latitude>=-90)]\ntrain=train[(train.pickup_longitude<=90)&(train.pickup_longitude>=-90)]",
      "execution_count": 94,
      "outputs": []
    },
    {
      "metadata": {
        "trusted": true,
        "_uuid": "0980f3fcb884866f4a0da5e42d8952f5cef0a22b"
      },
      "cell_type": "code",
      "source": "train=train[(train.passenger_count<8)]\ntrain=train[(train.pickup_latitude<=90)&(train.pickup_latitude>=-90)]\ntrain=train[(train.pickup_longitude<=90)&(train.pickup_longitude>=-90)]",
      "execution_count": 95,
      "outputs": []
    },
    {
      "metadata": {
        "trusted": true,
        "_uuid": "a41284d098e5a28b74df873e573dd910e7f95ddb"
      },
      "cell_type": "code",
      "source": "train.long=(train.pickup_longitude-train.dropoff_longitude)\ntrain.lat=(train.pickup_latitude-train.dropoff_latitude)\ntrain.long.head()\nfeatures=['long','lat']\ntrain.columns\nlong=train.long.to_frame()\nlat=train.lat.to_frame()\nlat.index",
      "execution_count": 96,
      "outputs": [
        {
          "output_type": "stream",
          "text": "/opt/conda/lib/python3.6/site-packages/ipykernel_launcher.py:1: UserWarning: Pandas doesn't allow columns to be created via a new attribute name - see https://pandas.pydata.org/pandas-docs/stable/indexing.html#attribute-access\n  \"\"\"Entry point for launching an IPython kernel.\n/opt/conda/lib/python3.6/site-packages/ipykernel_launcher.py:2: UserWarning: Pandas doesn't allow columns to be created via a new attribute name - see https://pandas.pydata.org/pandas-docs/stable/indexing.html#attribute-access\n  \n",
          "name": "stderr"
        },
        {
          "output_type": "execute_result",
          "execution_count": 96,
          "data": {
            "text/plain": "Int64Index([     0,      1,      2,      3,      4,      5,      6,      7,\n                 8,      9,\n            ...\n            999990, 999991, 999992, 999993, 999994, 999995, 999996, 999997,\n            999998, 999999],\n           dtype='int64', length=999970)"
          },
          "metadata": {}
        }
      ]
    },
    {
      "metadata": {
        "trusted": true,
        "_uuid": "216bfbda566842da313ba084c01280e8543c6247"
      },
      "cell_type": "code",
      "source": "x_train=pd.merge(long,lat,on=lat.index)\ny_train=train.fare_amount\nx_train.columns=['Index','long','lat']",
      "execution_count": 97,
      "outputs": []
    },
    {
      "metadata": {
        "trusted": true,
        "_uuid": "27d2df238d0b92fbc6dc2bb119911a575ffda40d"
      },
      "cell_type": "code",
      "source": "x_train.long=x_train.long.abs()\nx_train.lat=x_train.lat.abs()\nx_train.head()",
      "execution_count": 98,
      "outputs": [
        {
          "output_type": "execute_result",
          "execution_count": 98,
          "data": {
            "text/plain": "   Index      long       lat\n0      0  0.002701  0.009041\n1      1  0.036780  0.070701\n2      2  0.008504  0.010708\n3      3  0.004437  0.024949\n4      4  0.011440  0.015754",
            "text/html": "<div>\n<style scoped>\n    .dataframe tbody tr th:only-of-type {\n        vertical-align: middle;\n    }\n\n    .dataframe tbody tr th {\n        vertical-align: top;\n    }\n\n    .dataframe thead th {\n        text-align: right;\n    }\n</style>\n<table border=\"1\" class=\"dataframe\">\n  <thead>\n    <tr style=\"text-align: right;\">\n      <th></th>\n      <th>Index</th>\n      <th>long</th>\n      <th>lat</th>\n    </tr>\n  </thead>\n  <tbody>\n    <tr>\n      <th>0</th>\n      <td>0</td>\n      <td>0.002701</td>\n      <td>0.009041</td>\n    </tr>\n    <tr>\n      <th>1</th>\n      <td>1</td>\n      <td>0.036780</td>\n      <td>0.070701</td>\n    </tr>\n    <tr>\n      <th>2</th>\n      <td>2</td>\n      <td>0.008504</td>\n      <td>0.010708</td>\n    </tr>\n    <tr>\n      <th>3</th>\n      <td>3</td>\n      <td>0.004437</td>\n      <td>0.024949</td>\n    </tr>\n    <tr>\n      <th>4</th>\n      <td>4</td>\n      <td>0.011440</td>\n      <td>0.015754</td>\n    </tr>\n  </tbody>\n</table>\n</div>"
          },
          "metadata": {}
        }
      ]
    },
    {
      "metadata": {
        "trusted": true,
        "_uuid": "1e33a9b1ec3887ba3779a46c2e51cde705f0754a"
      },
      "cell_type": "code",
      "source": "import matplotlib.pyplot as plt\nplt.plot(x_train.lat.sort_values(),y_train.sort_values())\nplt.plot(x_train.long.sort_values(),y_train.sort_values())",
      "execution_count": 99,
      "outputs": [
        {
          "output_type": "execute_result",
          "execution_count": 99,
          "data": {
            "text/plain": "[<matplotlib.lines.Line2D at 0x7efea987cac8>]"
          },
          "metadata": {}
        },
        {
          "output_type": "display_data",
          "data": {
            "text/plain": "<Figure size 432x288 with 1 Axes>",
            "image/png": "[encoded data removed]"
          },
          "metadata": {}
        }
      ]
    },
    {
      "metadata": {
        "trusted": true,
        "_uuid": "7106c54e3cb879eb1ef5d46a4d714fa23959d9f4"
      },
      "cell_type": "code",
      "source": "from sklearn.linear_model import LogisticRegression\nfrom sklearn.linear_model import LinearRegression\nfrom sklearn.ensemble import RandomForestClassifier\ntype(y_train)",
      "execution_count": 100,
      "outputs": [
        {
          "output_type": "execute_result",
          "execution_count": 100,
          "data": {
            "text/plain": "pandas.core.series.Series"
          },
          "metadata": {}
        }
      ]
    },
    {
      "metadata": {
        "trusted": true,
        "_uuid": "ec25ae1a8f99a33af57921efbde49c0497e47894"
      },
      "cell_type": "code",
      "source": "log=LogisticRegression()\n\n\n\n",
      "execution_count": 101,
      "outputs": []
    },
    {
      "metadata": {
        "trusted": true,
        "_uuid": "9116a70f261a97e0a584064bc4277bba8ffae28c"
      },
      "cell_type": "code",
      "source": "x_train.columns",
      "execution_count": 102,
      "outputs": [
        {
          "output_type": "execute_result",
          "execution_count": 102,
          "data": {
            "text/plain": "Index(['Index', 'long', 'lat'], dtype='object')"
          },
          "metadata": {}
        }
      ]
    },
    {
      "metadata": {
        "trusted": true,
        "_uuid": "26290915b6333f7dbcddda51834bcb7e25b03e4b"
      },
      "cell_type": "code",
      "source": "y_train=y_train.to_frame()",
      "execution_count": 103,
      "outputs": []
    },
    {
      "metadata": {
        "trusted": true,
        "_uuid": "7f22ea818c0031d439f28061e3cb232bfa538798"
      },
      "cell_type": "code",
      "source": "train=pd.merge(x_train,y_train, on=x_train.index)\ntrain=train.dropna()",
      "execution_count": 104,
      "outputs": []
    },
    {
      "metadata": {
        "trusted": true,
        "_uuid": "030c4aa236088257bd3d53edbaacf7d538a23f82"
      },
      "cell_type": "code",
      "source": "\nx_train=train[['long','lat']]\ny_train=np.array(train.fare_amount)",
      "execution_count": 105,
      "outputs": []
    },
    {
      "metadata": {
        "trusted": true,
        "_uuid": "37e36665d23b3d3e0b6e85d162769fdf1bbfd74b"
      },
      "cell_type": "code",
      "source": "y_traincat=pd.qcut(y_train,7,labels=['lowest','lower','low','medium','high','higher','highest'])\nsns.countplot(y_traincat)",
      "execution_count": 106,
      "outputs": [
        {
          "output_type": "execute_result",
          "execution_count": 106,
          "data": {
            "text/plain": "<matplotlib.axes._subplots.AxesSubplot at 0x7efea149a550>"
          },
          "metadata": {}
        },
        {
          "output_type": "display_data",
          "data": {
            "text/plain": "<Figure size 432x288 with 1 Axes>",
            "image/png": "[encoded data removed]"
          },
          "metadata": {}
        }
      ]
    },
    {
      "metadata": {
        "trusted": true,
        "_uuid": "ba0822755d3e28abdc6b5e2b2e577f58f81ce6c3",
        "scrolled": true
      },
      "cell_type": "code",
      "source": "y_traincat=pd.cut(y_train,7,labels=['lowest','lower','low','medium','high','higher','highest'])\n\nlog.fit(x_train,y_traincat)",
      "execution_count": 107,
      "outputs": [
        {
          "output_type": "stream",
          "text": "/opt/conda/lib/python3.6/site-packages/sklearn/linear_model/logistic.py:433: FutureWarning: Default solver will be changed to 'lbfgs' in 0.22. Specify a solver to silence this warning.\n  FutureWarning)\n/opt/conda/lib/python3.6/site-packages/sklearn/linear_model/logistic.py:460: FutureWarning: Default multi_class will be changed to 'auto' in 0.22. Specify the multi_class option to silence this warning.\n  \"this warning.\", FutureWarning)\n",
          "name": "stderr"
        },
        {
          "output_type": "execute_result",
          "execution_count": 107,
          "data": {
            "text/plain": "LogisticRegression(C=1.0, class_weight=None, dual=False, fit_intercept=True,\n          intercept_scaling=1, max_iter=100, multi_class='warn',\n          n_jobs=None, penalty='l2', random_state=None, solver='warn',\n          tol=0.0001, verbose=0, warm_start=False)"
          },
          "metadata": {}
        }
      ]
    },
    {
      "metadata": {
        "trusted": true,
        "_uuid": "9975cf1c28096dea8e04dc528ecec494556638b1"
      },
      "cell_type": "code",
      "source": "log.score(x_train,y_traincat)",
      "execution_count": 108,
      "outputs": [
        {
          "output_type": "execute_result",
          "execution_count": 108,
          "data": {
            "text/plain": "0.9583523340933637"
          },
          "metadata": {}
        }
      ]
    },
    {
      "metadata": {
        "trusted": true,
        "_uuid": "12d7aa566389a721497a24fbd3b9c7a372c54616"
      },
      "cell_type": "code",
      "source": "test=test[(test.passenger_count<8)]\ntest=test[(test.pickup_latitude<=90)&(test.pickup_latitude>=-90)]\ntest=test[(test.pickup_longitude<=90)&(test.pickup_longitude>=-90)]",
      "execution_count": 109,
      "outputs": []
    },
    {
      "metadata": {
        "trusted": true,
        "_uuid": "9cd1e43120564301f10b9e573b509eca59c08609"
      },
      "cell_type": "code",
      "source": "test.long=(test.pickup_longitude-test.dropoff_longitude)\ntest.lat=(test.pickup_latitude-test.dropoff_latitude)\n",
      "execution_count": 110,
      "outputs": [
        {
          "output_type": "stream",
          "text": "/opt/conda/lib/python3.6/site-packages/ipykernel_launcher.py:1: UserWarning: Pandas doesn't allow columns to be created via a new attribute name - see https://pandas.pydata.org/pandas-docs/stable/indexing.html#attribute-access\n  \"\"\"Entry point for launching an IPython kernel.\n/opt/conda/lib/python3.6/site-packages/ipykernel_launcher.py:2: UserWarning: Pandas doesn't allow columns to be created via a new attribute name - see https://pandas.pydata.org/pandas-docs/stable/indexing.html#attribute-access\n  \n",
          "name": "stderr"
        }
      ]
    },
    {
      "metadata": {
        "trusted": true,
        "_uuid": "6487192ed41ec790be10861297be7665944cb64f"
      },
      "cell_type": "code",
      "source": "long=train.long.to_frame()\nlat=train.lat.to_frame()\nx_test=pd.merge(long,lat, on=lat.index)\nx_test.head()\nx_test.columns=['drop','long','lat']\nx_test.columns",
      "execution_count": 111,
      "outputs": [
        {
          "output_type": "execute_result",
          "execution_count": 111,
          "data": {
            "text/plain": "Index(['drop', 'long', 'lat'], dtype='object')"
          },
          "metadata": {}
        }
      ]
    },
    {
      "metadata": {
        "trusted": true,
        "_uuid": "23864abc72130818cf2ac02cffe3600fa921ebf5"
      },
      "cell_type": "code",
      "source": "x_test=x_test.drop('drop',axis=1)",
      "execution_count": 112,
      "outputs": []
    },
    {
      "metadata": {
        "trusted": true,
        "_uuid": "742b73747c407c81388529f0ff82a5e5f8184d70"
      },
      "cell_type": "code",
      "source": "x_test.head()",
      "execution_count": 113,
      "outputs": [
        {
          "output_type": "execute_result",
          "execution_count": 113,
          "data": {
            "text/plain": "       long       lat\n0  0.002701  0.009041\n1  0.036780  0.070701\n2  0.008504  0.010708\n3  0.004437  0.024949\n4  0.011440  0.015754",
            "text/html": "<div>\n<style scoped>\n    .dataframe tbody tr th:only-of-type {\n        vertical-align: middle;\n    }\n\n    .dataframe tbody tr th {\n        vertical-align: top;\n    }\n\n    .dataframe thead th {\n        text-align: right;\n    }\n</style>\n<table border=\"1\" class=\"dataframe\">\n  <thead>\n    <tr style=\"text-align: right;\">\n      <th></th>\n      <th>long</th>\n      <th>lat</th>\n    </tr>\n  </thead>\n  <tbody>\n    <tr>\n      <th>0</th>\n      <td>0.002701</td>\n      <td>0.009041</td>\n    </tr>\n    <tr>\n      <th>1</th>\n      <td>0.036780</td>\n      <td>0.070701</td>\n    </tr>\n    <tr>\n      <th>2</th>\n      <td>0.008504</td>\n      <td>0.010708</td>\n    </tr>\n    <tr>\n      <th>3</th>\n      <td>0.004437</td>\n      <td>0.024949</td>\n    </tr>\n    <tr>\n      <th>4</th>\n      <td>0.011440</td>\n      <td>0.015754</td>\n    </tr>\n  </tbody>\n</table>\n</div>"
          },
          "metadata": {}
        }
      ]
    },
    {
      "metadata": {
        "trusted": true,
        "_uuid": "5c5692fcf3b383db427cdda5120efd6f7e768b00"
      },
      "cell_type": "code",
      "source": "predicted=log.predict(x_test)",
      "execution_count": 114,
      "outputs": []
    },
    {
      "metadata": {
        "trusted": true,
        "_uuid": "f9bd80dcb7a82ec320627e996b89af4b51f4d7ac"
      },
      "cell_type": "code",
      "source": "sns.countplot(predicted)",
      "execution_count": 115,
      "outputs": [
        {
          "output_type": "execute_result",
          "execution_count": 115,
          "data": {
            "text/plain": "<matplotlib.axes._subplots.AxesSubplot at 0x7efea1595710>"
          },
          "metadata": {}
        },
        {
          "output_type": "display_data",
          "data": {
            "text/plain": "<Figure size 432x288 with 1 Axes>",
            "image/png": "[encoded data removed]"
          },
          "metadata": {}
        }
      ]
    },
    {
      "metadata": {
        "trusted": true,
        "_uuid": "fedc856c3934049cbe5a078104d4cc3fe4d953a7"
      },
      "cell_type": "code",
      "source": "predicted=pd.DataFrame(predicted)",
      "execution_count": 116,
      "outputs": []
    },
    {
      "metadata": {
        "trusted": true,
        "_uuid": "e8751b0addd4c42ab606460d04e749976afa0242"
      },
      "cell_type": "code",
      "source": "predicted.columns=['price']",
      "execution_count": 117,
      "outputs": []
    },
    {
      "metadata": {
        "trusted": true,
        "_uuid": "81bbdcfbb4cb94aa5f1a44b68652489234af8d09"
      },
      "cell_type": "code",
      "source": "predicted.groupby('price').size()\n",
      "execution_count": 119,
      "outputs": [
        {
          "output_type": "execute_result",
          "execution_count": 119,
          "data": {
            "text/plain": "price\nlower         10\nlowest    999950\ndtype: int64"
          },
          "metadata": {}
        }
      ]
    },
    {
      "metadata": {
        "trusted": true,
        "_uuid": "4bc3432913e74bd5ad01f3936bc67819f89cb575"
      },
      "cell_type": "code",
      "source": "",
      "execution_count": null,
      "outputs": []
    }
  ],
  "metadata": {
    "kernelspec": {
      "display_name": "Python 3",
      "language": "python",
      "name": "python3"
    },
    "language_info": {
      "name": "python",
      "version": "3.6.6",
      "mimetype": "text/x-python",
      "codemirror_mode": {
        "name": "ipython",
        "version": 3
      },
      "pygments_lexer": "ipython3",
      "nbconvert_exporter": "python",
      "file_extension": ".py"
    }
  },
  "nbformat": 4,
  "nbformat_minor": 1
}